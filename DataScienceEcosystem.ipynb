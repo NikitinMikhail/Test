{
 "cells": [
  {
   "cell_type": "markdown",
   "id": "ccef5afb-9dde-4112-8fcc-08845753a15b",
   "metadata": {},
   "source": [
    "# Data Science Tools and Ecosystem"
   ]
  },
  {
   "cell_type": "markdown",
   "id": "c17c6ec1-ddab-4fe0-adce-0fb4c854695f",
   "metadata": {},
   "source": [
    "In this notebook, Data Science Tools and Ecosystem are summarized."
   ]
  },
  {
   "cell_type": "markdown",
   "id": "26faf2c2-7664-404d-82ef-e3222f28e808",
   "metadata": {},
   "source": [
    "Some of the popular languages that Data Scientists use are:\n",
    "1. Python\n",
    "2. R\n",
    "3. SQL\n",
    "4. Julia\n",
    "5. Scala"
   ]
  },
  {
   "cell_type": "markdown",
   "id": "47419e26-bb05-48a6-9b2a-583fbfcab7c8",
   "metadata": {},
   "source": [
    "Some of the commonly used libraries used by Data Scientists include:\n",
    "1. Numpy\n",
    "2. Pandas\n",
    "3. Scikit-learn\n",
    "4. Keras\n",
    "5. Matplotlib"
   ]
  },
  {
   "cell_type": "markdown",
   "id": "cfa253ff-0407-4783-94ef-825a14fb9e52",
   "metadata": {},
   "source": [
    "| Data Science Tools |\n",
    "| -------------|\n",
    "| Jupyter Notebook |\n",
    "| Rstudio |\n",
    "| Apache Spark |"
   ]
  },
  {
   "cell_type": "markdown",
   "id": "8c500bb8-3b2a-4180-8a54-cf3c17c40c1e",
   "metadata": {},
   "source": [
    "### Below are a few examples of evaluating arithmetic expressions in Python"
   ]
  },
  {
   "cell_type": "code",
   "execution_count": 5,
   "id": "8eddeabc-3a9b-4ad4-97ee-a3561e35e447",
   "metadata": {},
   "outputs": [
    {
     "data": {
      "text/plain": [
       "17"
      ]
     },
     "execution_count": 5,
     "metadata": {},
     "output_type": "execute_result"
    }
   ],
   "source": [
    "#This a simple arithmetic expression to mutiply then add integers\n",
    "(3*4)+5"
   ]
  },
  {
   "cell_type": "code",
   "execution_count": 6,
   "id": "ee5141ca-e251-4d6a-8bc4-af2f7508ed32",
   "metadata": {},
   "outputs": [
    {
     "data": {
      "text/plain": [
       "'3.33 hours'"
      ]
     },
     "execution_count": 6,
     "metadata": {},
     "output_type": "execute_result"
    }
   ],
   "source": [
    "#This will convert 200 minutes to hours by diving by 60\n",
    "str(round(int('200 minutes'.split(' ')[0]) / 60, 2)) + ' hours'"
   ]
  },
  {
   "cell_type": "markdown",
   "id": "639d70c0-f8d2-4900-a037-c25107e89546",
   "metadata": {},
   "source": [
    "**Objectives:**\n",
    "-Learn how to use markdown cells\n",
    "-List popular tools and libraries for Data Science\n",
    "-Learn how to use comments within code cells"
   ]
  },
  {
   "cell_type": "markdown",
   "id": "5c857bbb-fc48-4446-8ae1-2a8e50320538",
   "metadata": {},
   "source": [
    "## Author\n",
    "Mikhail Nikitin"
   ]
  },
  {
   "cell_type": "code",
   "execution_count": null,
   "id": "e26a40c3-8970-4912-b115-e7126385e676",
   "metadata": {},
   "outputs": [],
   "source": []
  }
 ],
 "metadata": {
  "kernelspec": {
   "display_name": "Python 3 (ipykernel)",
   "language": "python",
   "name": "python3"
  },
  "language_info": {
   "codemirror_mode": {
    "name": "ipython",
    "version": 3
   },
   "file_extension": ".py",
   "mimetype": "text/x-python",
   "name": "python",
   "nbconvert_exporter": "python",
   "pygments_lexer": "ipython3",
   "version": "3.12.5"
  }
 },
 "nbformat": 4,
 "nbformat_minor": 5
}
